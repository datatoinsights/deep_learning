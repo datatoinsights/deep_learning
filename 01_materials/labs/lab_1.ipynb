{
 "cells": [
  {
   "cell_type": "markdown",
   "metadata": {},
   "source": [
    "# Training Neural Networks with Keras\n",
    "\n",
    "Welcome to the first practical session of the course! In this session, we will learn how to train neural networks with Keras. We will start with a simple example of a feedforward neural network for classification and then we will study the impact of the initialization of the weights on the convergence of the training algorithm.\n",
    "\n",
    "Keras is a high-level neural network API, built on top of TensorFlow 2.0. It provides a user-friendly interface to build, train and deploy deep learning models. Keras is designed to be modular, fast and easy to use.\n",
    "\n",
    "Throughout this course, we will focus on using Keras and TensorFlow for building and training neural networks. However, there are other popular deep learning frameworks such as PyTorch, MXNet, CNTK, etc. that you can also use to build and train neural networks.\n",
    "\n",
    "In order to use our code on Google Colab, we will need to ensure that any required packages are installed. We will use the following packages in this session:\n",
    "\n",
    "- `tensorflow`: an open-source library for numerical computation and large-scale machine learning.\n",
    "- `matplotlib`: a plotting library for the Python programming language and its numerical mathematics extension NumPy.\n",
    "- `numpy`: a library for scientific computing in Python.\n",
    "- `scikit-learn`: a machine learning library for the Python programming language.\n",
    "- `pandas`: a library providing high-performance, easy-to-use data structures and data analysis tools for the Python programming language.\n",
    "\n",
    "The following cell will check if the packages are installed, and if not, it will install them. Students familiar with how pip works might note that it already checks this before installing! The reason for this code (which will also appear in subsequent notebooks) is to speed up execution if you re-run the entire notebook - it will skip the installation step if the packages are already installed."
   ]
  },
  {
   "cell_type": "markdown",
   "metadata": {
    "collapsed": false
   },
   "source": [
    "With the packages installed, we can now get started on the practical session!\n",
    "\n",
    "Today, we will be working with the famous MNIST dataset. MNIST (Modified National Institute of Standards and Technology) is a database of low resolution images of handwritten digits. The history here is interesting - the dataset was originally created in the 1980s, when researchers from the aforementioned institute collected samples from American Census Bureau employees and high school students. The dataset was then modified in the 1990s (hence the M in MNIST), and has since become a popular benchmark for machine learning algorithms. \n",
    "\n",
    "The dataset contains images, each of which is a 28x28 grayscale image of a handwritten digit. The goal is to classify each image into one of the 10 possible classes (0-9).\n",
    "\n",
    "![MNIST](https://upload.wikimedia.org/wikipedia/commons/2/27/MnistExamples.png)\n",
    "\n",
    "The Scikit-Learn library provides a convenient function to download and load the MNIST dataset. The following cell will download the dataset. Then we will take a look at the shape of the data."
   ]
  },
  {
   "cell_type": "code",
   "execution_count": 1,
   "metadata": {},
   "outputs": [],
   "source": [
    "import matplotlib.pyplot as plt\n",
    "import numpy as np\n",
    "\n",
    "from sklearn.datasets import load_digits\n",
    "\n",
    "digits = load_digits()"
   ]
  },
  {
   "cell_type": "code",
   "execution_count": 2,
   "metadata": {},
   "outputs": [
    {
     "data": {
      "text/plain": [
       "(1797, 8, 8)"
      ]
     },
     "execution_count": 2,
     "metadata": {},
     "output_type": "execute_result"
    }
   ],
   "source": [
    "digits.images.shape"
   ]
  },
  {
   "cell_type": "markdown",
   "metadata": {
    "collapsed": false
   },
   "source": [
    "This means that we have 1797 images, each of which is a 8x8 image. For basic image processing, we will need to flatten the images into a 1D array. In this case, Scikit-Learn has already provided the data in this format too:"
   ]
  },
  {
   "cell_type": "code",
   "execution_count": 3,
   "metadata": {},
   "outputs": [
    {
     "data": {
      "text/plain": [
       "(1797, 64)"
      ]
     },
     "execution_count": 3,
     "metadata": {},
     "output_type": "execute_result"
    }
   ],
   "source": [
    "digits.data.shape"
   ]
  },
  {
   "cell_type": "markdown",
   "metadata": {
    "collapsed": false
   },
   "source": [
    "For each image, we also have the corresponding label (or target, or class) in `digits.target`:"
   ]
  },
  {
   "cell_type": "code",
   "execution_count": 4,
   "metadata": {},
   "outputs": [
    {
     "data": {
      "text/plain": [
       "(1797,)"
      ]
     },
     "execution_count": 4,
     "metadata": {},
     "output_type": "execute_result"
    }
   ],
   "source": [
    "digits.target.shape"
   ]
  },
  {
   "cell_type": "markdown",
   "metadata": {
    "collapsed": false
   },
   "source": [
    "We can take a look at some random images from the dataset. The following cell will select 9 random images and plot them in a 3x3 grid (meaning that you can rerun the cell to see different images)."
   ]
  },
  {
   "cell_type": "code",
   "execution_count": 5,
   "metadata": {},
   "outputs": [
    {
     "data": {
      "image/png": "[encoded data removed]",
      "text/plain": [
       "<Figure size 600x600 with 9 Axes>"
      ]
     },
     "metadata": {},
     "output_type": "display_data"
    }
   ],
   "source": [
    "# Selecting 9 random indices\n",
    "random_indices = np.random.choice(len(digits.images), 9, replace=False)\n",
    "\n",
    "# Creating a 3x3 grid plot\n",
    "fig, axes = plt.subplots(3, 3, figsize=(6, 6))\n",
    "\n",
    "for i, ax in enumerate(axes.flat):\n",
    "    ax.imshow(digits.images[random_indices[i]], cmap=plt.cm.gray_r, interpolation='nearest')\n",
    "    ax.set_title(f\"Label: {digits.target[random_indices[i]]}\")\n",
    "\n",
    "    # Removing axis labels\n",
    "    ax.set_xticks([])\n",
    "    ax.set_yticks([])\n",
    "\n",
    "plt.show()"
   ]
  },
  {
   "cell_type": "markdown",
   "metadata": {
    "collapsed": false
   },
   "source": [
    "As you can see, these images are very low resolution. This is because they were originally scanned from paper forms, and then scaled down to 8x8 pixels. This is a common problem in machine learning - the quality of the data is often a limiting factor in the performance of the model. In this case, the low resolution of the images makes it difficult to distinguish between some digits, even for humans. For example, the following images are all labelled as 9, but they look very different:"
   ]
  },
  {
   "cell_type": "code",
   "execution_count": 7,
   "metadata": {
    "collapsed": false
   },
   "outputs": [
    {
     "data": {
      "image/png": "[encoded data removed]",
      "text/plain": [
       "<Figure size 600x600 with 9 Axes>"
      ]
     },
     "metadata": {},
     "output_type": "display_data"
    }
   ],
   "source": [
    "# Selecting 9 random indices of images labelled as 9\n",
    "random_indices = np.random.choice(np.where(digits.target == 9)[0], 9, replace=False)\n",
    "\n",
    "# Creating a 3x3 grid plot\n",
    "fig, axes = plt.subplots(3, 3, figsize=(6, 6))\n",
    "\n",
    "for i, ax in enumerate(axes.flat):\n",
    "    ax.imshow(digits.images[random_indices[i]], cmap=plt.cm.gray_r, interpolation='nearest')\n",
    "    ax.set_title(f\"Label: {digits.target[random_indices[i]]}\")\n",
    "\n",
    "    # Removing axis labels\n",
    "    ax.set_xticks([])\n",
    "    ax.set_yticks([])\n",
    "    \n",
    "plt.show()"
   ]
  },
  {
   "cell_type": "markdown",
   "metadata": {
    "collapsed": false
   },
   "source": [
    "While we are plotting the samples as images, remember that our model is only going to see a 1D array of numbers. "
   ]
  },
  {
   "cell_type": "markdown",
   "metadata": {},
   "source": [
    "## Train / Test Split\n",
    "\n",
    "In order to understand how well our model performs on _new_ data, we need to split our dataset into a training set and a test set. The training set will be used to train the model, and the test set will be used to evaluate the performance of the model.\n",
    "\n",
    "Let's keep some held-out data to be able to measure the generalization performance of our model. "
   ]
  },
  {
   "cell_type": "code",
   "execution_count": 8,
   "metadata": {},
   "outputs": [],
   "source": [
    "from sklearn.model_selection import train_test_split\n",
    "\n",
    "\n",
    "X_train, X_test, y_train, y_test = train_test_split(\n",
    "    digits.data, \n",
    "    digits.target,\n",
    "    test_size=0.2, # 20% of the data is used for testing\n",
    "    random_state=42 # Providing a value here means getting the same \"random\" split every time\n",
    ")"
   ]
  },
  {
   "cell_type": "markdown",
   "metadata": {
    "collapsed": false
   },
   "source": [
    "Let's confirm that the data has been split correctly:"
   ]
  },
  {
   "cell_type": "code",
   "execution_count": 9,
   "metadata": {
    "collapsed": false
   },
   "outputs": [
    {
     "name": "stdout",
     "output_type": "stream",
     "text": [
      "X_train shape: (1437, 64)\n",
      "y_train shape: (1437,)\n",
      "X_test shape: (360, 64)\n",
      "y_test shape: (360,)\n"
     ]
    }
   ],
   "source": [
    "print(f'X_train shape: {X_train.shape}')\n",
    "print(f'y_train shape: {y_train.shape}')\n",
    "print(f'X_test shape: {X_test.shape}')\n",
    "print(f'y_test shape: {y_test.shape}')"
   ]
  },
  {
   "cell_type": "markdown",
   "metadata": {
    "collapsed": false
   },
   "source": [
    "This is what we expected to see. It's always good to check as you go, to make sure that you haven't made a mistake somewhere - this is something that working in a notebook like this makes it easy to do."
   ]
  },
  {
   "cell_type": "markdown",
   "metadata": {},
   "source": [
    "## Preprocessing of the Target Data\n",
    "\n",
    "The labels that we have are integers between 0 and 9. However, we want to train a neural network to classify the images into one of 10 classes. It can be a little counter-intuitive because we are dealing with numbers, but our classes are not ordinal.\n",
    "\n",
    "What do we mean by that? Let's imagine we were trying to predict the height of a building (separated into classes) from images. If a given building was actually 10m tall, and our model predicted 9m, we would consider that to be a better prediction than if it predicted 1m. This is because the classes are ordinal - there is meaning in the difference between the classes.\n",
    "\n",
    "In our case, even though we are dealing with numbers, the classes are not ordinal. If a given image is actually a 9, and our model predicts 8, we would consider that to be just as bad as if it predicted 1. This is because the classes are not ordered, and the difference between the classes is not meaningful.\n",
    "\n",
    "Because of this, we need to convert our labels from an integer value into a one-hot encoded vector. This means that each label will be represented as a vector of length 10, with a 1 in the position corresponding to the class, and 0s everywhere else. For example, the label 9 would be represented as `[0, 0, 0, 0, 0, 0, 0, 0, 0, 1]`. This is a common way of representing categorical data in machine learning. By doing this, we ensure that our model is taught the correct relationship between the classes."
   ]
  },
  {
   "cell_type": "code",
   "execution_count": 10,
   "metadata": {},
   "outputs": [
    {
     "name": "stdout",
     "output_type": "stream",
     "text": [
      "Before one-hot encoding: 6\n",
      "After one-hot encoding: [0. 0. 0. 0. 0. 0. 1. 0. 0. 0.]\n"
     ]
    }
   ],
   "source": [
    "from tensorflow.keras.utils import to_categorical\n",
    "\n",
    "print(f'Before one-hot encoding: {y_train[0]}')\n",
    "y_train = to_categorical(y_train, num_classes=10)\n",
    "y_test = to_categorical(y_test, num_classes=10)\n",
    "print(f'After one-hot encoding: {y_train[0]}')"
   ]
  },
  {
   "cell_type": "markdown",
   "metadata": {},
   "source": [
    "## Feed Forward Neural Networks with Keras\n",
    "\n",
    "Now that we have prepared our data, it's time to build a simple neural network! In this section, we will use the Keras API to build a simple feed forward neural network. We will then train the model on the MNIST dataset, and evaluate its performance on the test set.\n",
    "\n",
    "In most modern deep learning frameworks, the process of building a model can be broken down into a few steps:\n",
    "\n",
    "- Define the model architecture: this is where we define the layers of the model, and how they are connected to each other.\n",
    "- Compile the model: this is where we define the loss function, the optimizer, and the metrics that we want to use to evaluate the model.\n",
    "- Train the model: this is where we train the model on the training data.\n",
    "\n",
    "Let's start with defining the model architecture. There are two ways to do this in Keras - the Sequential API and the Functional API. The Sequential API is the simplest way to build a model, and is suitable for most use cases. The Functional API is more flexible, and allows you to build more complex models. We will start with the Sequential API, and then we will look at the Functional API later in the course.\n",
    "\n",
    "Our simple neural network will be \"fully-connected\". This means that each neuron in a given layer is connected to every neuron in the next layer. This is also known as a \"dense\" layer. We will use the `Dense` class from Keras to define our layers."
   ]
  },
  {
   "cell_type": "code",
   "execution_count": 11,
   "metadata": {
    "collapsed": false
   },
   "outputs": [
    {
     "name": "stdout",
     "output_type": "stream",
     "text": [
      "Model: \"sequential\"\n",
      "_________________________________________________________________\n",
      " Layer (type)                Output Shape              Param #   \n",
      "=================================================================\n",
      " dense (Dense)               (None, 64)                4160      \n",
      "                                                                 \n",
      " dense_1 (Dense)             (None, 64)                4160      \n",
      "                                                                 \n",
      " dense_2 (Dense)             (None, 10)                650       \n",
      "                                                                 \n",
      "=================================================================\n",
      "Total params: 8,970\n",
      "Trainable params: 8,970\n",
      "Non-trainable params: 0\n",
      "_________________________________________________________________\n"
     ]
    }
   ],
   "source": [
    "from tensorflow.keras.models import Sequential\n",
    "from tensorflow.keras.layers import Dense\n",
    "\n",
    "model = Sequential()\n",
    "\n",
    "# Input layer\n",
    "model.add(Dense(64, activation='relu', input_shape=(64,))) # 64 neurons, ReLU activation, input shape of 64\n",
    "\n",
    "# Hidden layer\n",
    "model.add(Dense(64, activation='relu')) # 64 neurons, ReLU activation\n",
    "\n",
    "# Output layer\n",
    "model.add(Dense(10, activation='softmax')) # 10 neurons, softmax activation\n",
    "\n",
    "model.summary()\n",
    "\n",
    "# ? parameters = input layer * neurons + neurons ?"
   ]
  },
  {
   "cell_type": "markdown",
   "metadata": {
    "collapsed": false
   },
   "source": [
    "Congratulations! You have just built your first neural network with Keras. As we can confirm from the `model.summary()` output, our model has 3 layers. The first layer has 64 neurons, the second layer has 64 neurons, and the output layer has 10 neurons. The output layer uses the softmax activation function, which is commonly used for multi-class classification problems. The other layers use the ReLU activation function, which is commonly used for hidden layers in neural networks.\n",
    "\n",
    "Next, we need to compile the model. This is where we define the loss function, the optimizer, and the metrics that we want to use to evaluate the model. We will use the `compile` method of the model to do this."
   ]
  },
  {
   "cell_type": "code",
   "execution_count": 12,
   "metadata": {
    "collapsed": false
   },
   "outputs": [],
   "source": [
    "model.compile(\n",
    "    loss='categorical_crossentropy', # Loss function\n",
    "    optimizer='sgd', # Optimizer\n",
    "    metrics=['accuracy'] # Metrics to evaluate the model\n",
    ")"
   ]
  },
  {
   "cell_type": "markdown",
   "metadata": {
    "collapsed": false
   },
   "source": [
    "Because we are predicting which class a sample belongs to, we will use the `categorical_crossentropy` function. This loss function is commonly used for multi-class classification problems. \n",
    "\n",
    "For our optimizer, we are using the standard stochastic gradient descent (SGD) algorithm. This is a simple optimizer that works well for many problems. We will look at more advanced optimizers later in the course.\n",
    "\n",
    "Finally, we are using the `accuracy` metric to evaluate the model. This is a common metric for classification problems, and it is simply the fraction of samples that are correctly classified. This is an easier metric for us to understand, but it's not quite as useful for actually training the model (for example, it doesn't tell us how \"confident\" the model is in its predictions).\n",
    "\n",
    "Now that we have (a) defined the model architecture and (b) compiled the model, we are ready to train the model. We will use the `fit` method of the model to do this."
   ]
  },
  {
   "cell_type": "code",
   "execution_count": 15,
   "metadata": {
    "collapsed": false
   },
   "outputs": [
    {
     "name": "stdout",
     "output_type": "stream",
     "text": [
      "Epoch 1/5\n",
      "36/36 [==============================] - 0s 11ms/step - loss: 0.0335 - accuracy: 0.9922 - val_loss: 0.1424 - val_accuracy: 0.9549\n",
      "Epoch 2/5\n",
      "36/36 [==============================] - 0s 7ms/step - loss: 0.0322 - accuracy: 0.9948 - val_loss: 0.1433 - val_accuracy: 0.9583\n",
      "Epoch 3/5\n",
      "36/36 [==============================] - 0s 6ms/step - loss: 0.0291 - accuracy: 0.9956 - val_loss: 0.1415 - val_accuracy: 0.9549\n",
      "Epoch 4/5\n",
      "36/36 [==============================] - 0s 7ms/step - loss: 0.0286 - accuracy: 0.9956 - val_loss: 0.1423 - val_accuracy: 0.9583\n",
      "Epoch 5/5\n",
      "36/36 [==============================] - 0s 6ms/step - loss: 0.0261 - accuracy: 0.9956 - val_loss: 0.1363 - val_accuracy: 0.9583\n"
     ]
    },
    {
     "data": {
      "text/plain": [
       "<keras.callbacks.History at 0x20f6b52b6a0>"
      ]
     },
     "execution_count": 15,
     "metadata": {},
     "output_type": "execute_result"
    }
   ],
   "source": [
    "model.fit(\n",
    "    X_train, # Training data\n",
    "    y_train, # Training labels\n",
    "    epochs=5, # Number of epochs\n",
    "    batch_size=32, # Number of samples per batch\n",
    "    validation_split=0.2 # Use 20% of the data for validation\n",
    ")"
   ]
  },
  {
   "cell_type": "markdown",
   "metadata": {},
   "source": [
    "### My Question:\n",
    "\n",
    "is the accuracy based on validation data inside of training data?"
   ]
  },
  {
   "cell_type": "markdown",
   "metadata": {
    "collapsed": false
   },
   "source": [
    "We have now trained our model! We can see that the model has been trained for 5 epochs, and the loss and accuracy have been printed for each epoch. We can also see that the model has been evaluated on the validation data at the end of each epoch. This is useful for us to see how the model is performing on data that it hasn't seen during training.\n",
    "\n",
    "Once the model is trained, it's time to evaluate the model on the test set. We can use the `evaluate` method of the model to do this. If you were building a model for a real-world application, this is the very last thing you would do, and the result here would be the figure you'd report in your paper or presentation."
   ]
  },
  {
   "cell_type": "code",
   "execution_count": 16,
   "metadata": {
    "collapsed": false
   },
   "outputs": [
    {
     "name": "stdout",
     "output_type": "stream",
     "text": [
      "12/12 [==============================] - 0s 4ms/step - loss: 0.1251 - accuracy: 0.9694\n",
      "Loss:     0.13\n",
      "Accuracy: 96.94%\n"
     ]
    }
   ],
   "source": [
    "loss, accuracy = model.evaluate(X_test, y_test)\n",
    "\n",
    "print(f'Loss:     {loss:.2f}')\n",
    "print(f'Accuracy: {accuracy*100:.2f}%')"
   ]
  },
  {
   "cell_type": "markdown",
   "metadata": {
    "collapsed": false
   },
   "source": [
    "Hopefully you have achieved an accuracy of around 95%. This is pretty good, but we can do better! In the next section, we will look at how we can improve the performance of our model by using a more advanced optimizer. But before we get there, let's do one other thing - let's look at the predictions that our model is making on the test set. When you are building a model, it's often useful to have a look at some of the examples your model is getting wrong. Sometimes this can reveal problems with the data, or it can give you ideas for how to improve your model."
   ]
  },
  {
   "cell_type": "code",
   "execution_count": 17,
   "metadata": {
    "collapsed": false
   },
   "outputs": [
    {
     "name": "stdout",
     "output_type": "stream",
     "text": [
      "12/12 [==============================] - 0s 3ms/step\n"
     ]
    },
    {
     "data": {
      "image/png": "[encoded data removed]",
      "text/plain": [
       "<Figure size 600x600 with 9 Axes>"
      ]
     },
     "metadata": {},
     "output_type": "display_data"
    }
   ],
   "source": [
    "# Get the predictions for the test data\n",
    "predictions = model.predict(X_test)\n",
    "\n",
    "# Get the index of the largest probability (i.e. the predicted class)\n",
    "predicted_classes = np.argmax(predictions, axis=1)\n",
    "true_classes = np.argmax(y_test, axis=1)\n",
    "misclassified_indices = np.where(predicted_classes != true_classes)[0]\n",
    "\n",
    "# Get the misclassified samples themselves\n",
    "misclassified_samples = X_test[misclassified_indices]\n",
    "misclassified_labels = np.argmax(y_test[misclassified_indices], axis=1)\n",
    "\n",
    "# Pick 9 random misclassified samples\n",
    "random_indices = np.random.choice(len(misclassified_indices), 9, replace=False)\n",
    "\n",
    "fig, axes = plt.subplots(3, 3, figsize=(6, 6))\n",
    "for i, ax in enumerate(axes.flat):\n",
    "    ax.imshow(misclassified_samples[random_indices[i]].reshape(8, 8), cmap=plt.cm.gray_r, interpolation='nearest')\n",
    "    ax.set_title(f\"Pred: {predicted_classes[misclassified_indices[random_indices[i]]]}, Real: {misclassified_labels[random_indices[i]]}\")\n",
    "\n",
    "    # Removing axis labels\n",
    "    ax.set_xticks([])\n",
    "    ax.set_yticks([])\n",
    "    \n",
    "plt.show()"
   ]
  },
  {
   "cell_type": "markdown",
   "metadata": {
    "collapsed": false
   },
   "source": [
    "What do you think? Would you have made the same mistakes as the model? Determining whether the mistakes are \"understandable\" is a rough way of seeing if you could improve the model further, or if this is the best you can do with the data you have."
   ]
  },
  {
   "cell_type": "markdown",
   "metadata": {},
   "source": [
    "### b) Exercises: Impact of the Optimizer\n",
    "\n",
    "In this section, you will play around with the optimizer and see how it affects the performance of the model. We will start with the standard SGD optimizer, and then we will look at more advanced optimizers.\n",
    "\n",
    "1. Try decreasing the learning rate of the SGD optimizer by a factor of 10, or 100. What do you observe?\n",
    "2. Try increasing the learning rate of the SGD optimizer. What happens?\n",
    "3. The SGD optimizer has a momentum parameter. In a nutshell, this parameter controls how much the gradient from the previous step affects the current step. Try enabling momentum in the SGD optimizer with a value of 0.9. What happens?\n",
    "  \n",
    "**Notes**: \n",
    "\n",
    "The keras API documentation is available at:\n",
    "\n",
    "https://www.tensorflow.org/api_docs/python/tf/keras\n",
    "\n",
    "It is also possible to learn more about the parameters of a class by using the question mark: type and evaluate:\n",
    "\n",
    "```python\n",
    "optimizers.SGD?\n",
    "```\n",
    "\n",
    "in a jupyter notebook cell.\n",
    "\n",
    "It is also possible to type the beginning of a function call / constructor and type \"shift-tab\" after the opening paren:\n",
    "\n",
    "```python\n",
    "optimizers.SGD(<shift-tab>\n",
    "```"
   ]
  },
  {
   "cell_type": "code",
   "execution_count": 18,
   "metadata": {},
   "outputs": [
    {
     "name": "stdout",
     "output_type": "stream",
     "text": [
      "Model: \"sequential_1\"\n",
      "_________________________________________________________________\n",
      " Layer (type)                Output Shape              Param #   \n",
      "=================================================================\n",
      " dense_3 (Dense)             (None, 64)                4160      \n",
      "                                                                 \n",
      " dense_4 (Dense)             (None, 64)                4160      \n",
      "                                                                 \n",
      " dense_5 (Dense)             (None, 10)                650       \n",
      "                                                                 \n",
      "=================================================================\n",
      "Total params: 8,970\n",
      "Trainable params: 8,970\n",
      "Non-trainable params: 0\n",
      "_________________________________________________________________\n",
      "Epoch 1/15\n",
      "45/45 [==============================] - 1s 4ms/step - loss: 5.0090 - accuracy: 0.1573\n",
      "Epoch 2/15\n",
      "45/45 [==============================] - 0s 8ms/step - loss: 1.5978 - accuracy: 0.4586\n",
      "Epoch 3/15\n",
      "45/45 [==============================] - 0s 4ms/step - loss: 1.0468 - accuracy: 0.6681\n",
      "Epoch 4/15\n",
      "45/45 [==============================] - 0s 4ms/step - loss: 0.8287 - accuracy: 0.7376\n",
      "Epoch 5/15\n",
      "45/45 [==============================] - 0s 4ms/step - loss: 0.7018 - accuracy: 0.7905\n",
      "Epoch 6/15\n",
      "45/45 [==============================] - 0s 4ms/step - loss: 0.6138 - accuracy: 0.8246\n",
      "Epoch 7/15\n",
      "45/45 [==============================] - 0s 4ms/step - loss: 0.5486 - accuracy: 0.8427\n",
      "Epoch 8/15\n",
      "45/45 [==============================] - 0s 4ms/step - loss: 0.4994 - accuracy: 0.8580\n",
      "Epoch 9/15\n",
      "45/45 [==============================] - 0s 5ms/step - loss: 0.4600 - accuracy: 0.8706\n",
      "Epoch 10/15\n",
      "45/45 [==============================] - 0s 4ms/step - loss: 0.4257 - accuracy: 0.8747\n",
      "Epoch 11/15\n",
      "45/45 [==============================] - 0s 4ms/step - loss: 0.3977 - accuracy: 0.8838\n",
      "Epoch 12/15\n",
      "45/45 [==============================] - 0s 4ms/step - loss: 0.3731 - accuracy: 0.8894\n",
      "Epoch 13/15\n",
      "45/45 [==============================] - 0s 4ms/step - loss: 0.3525 - accuracy: 0.8942\n",
      "Epoch 14/15\n",
      "45/45 [==============================] - 0s 8ms/step - loss: 0.3342 - accuracy: 0.9026\n",
      "Epoch 15/15\n",
      "45/45 [==============================] - 0s 3ms/step - loss: 0.3167 - accuracy: 0.9088\n"
     ]
    }
   ],
   "source": [
    "# Your code here - copy the relevant parts from the previous section and add more cells as needed\n",
    "# Decrease the leanring rate of the SGD by a factor of 10, defualt is 0.01\n",
    "\n",
    "from tensorflow.keras import optimizers\n",
    "#from tensorflow.keras.models import Sequential\n",
    "#from tensorflow.keras.layers import Dense\n",
    "\n",
    "model = Sequential()\n",
    "\n",
    "# Input layer\n",
    "model.add(Dense(64, activation='relu', input_shape=(64,))) # 64 neurons, ReLU activation, input shape of 64\n",
    "\n",
    "# Hidden layer\n",
    "model.add(Dense(64, activation='relu')) # 64 neurons, ReLU activation\n",
    "\n",
    "# Output layer\n",
    "model.add(Dense(10, activation='softmax')) # 10 neurons, softmax activation\n",
    "\n",
    "model.summary()\n",
    "\n",
    "model.compile(\n",
    "    optimizer=optimizers.SGD(learning_rate = 0.001), ### change the learning rate (default is 0.01 if not defined), \n",
    "    ### everything else should stay the same \n",
    "    ### hyperparameters do matter the performance, need to try different hyperparameters to see if it improves the performance\n",
    "    ### the resulte shows the learning rate impacts how fast the model is updating to get closer to global minimum for loss function\n",
    "\n",
    "    loss='categorical_crossentropy', # Loss function\n",
    "    #optimizer='sgd', # Optimizer\n",
    "    metrics=['accuracy'] # Metrics to evaluate the model\n",
    ")\n",
    "\n",
    "history = model.fit(X_train, y_train, epochs=15,batch_size=32)"
   ]
  },
  {
   "cell_type": "code",
   "execution_count": 19,
   "metadata": {},
   "outputs": [
    {
     "name": "stdout",
     "output_type": "stream",
     "text": [
      "Model: \"sequential_2\"\n",
      "_________________________________________________________________\n",
      " Layer (type)                Output Shape              Param #   \n",
      "=================================================================\n",
      " dense_6 (Dense)             (None, 64)                4160      \n",
      "                                                                 \n",
      " dense_7 (Dense)             (None, 64)                4160      \n",
      "                                                                 \n",
      " dense_8 (Dense)             (None, 10)                650       \n",
      "                                                                 \n",
      "=================================================================\n",
      "Total params: 8,970\n",
      "Trainable params: 8,970\n",
      "Non-trainable params: 0\n",
      "_________________________________________________________________\n",
      "Epoch 1/15\n",
      "45/45 [==============================] - 1s 4ms/step - loss: 3.5548 - accuracy: 0.2825\n",
      "Epoch 2/15\n",
      "45/45 [==============================] - 0s 3ms/step - loss: 1.9751 - accuracy: 0.2930\n",
      "Epoch 3/15\n",
      "45/45 [==============================] - 0s 4ms/step - loss: 1.8431 - accuracy: 0.3090\n",
      "Epoch 4/15\n",
      "45/45 [==============================] - 0s 4ms/step - loss: 1.8106 - accuracy: 0.2881\n",
      "Epoch 5/15\n",
      "45/45 [==============================] - 0s 4ms/step - loss: 1.6224 - accuracy: 0.3646\n",
      "Epoch 6/15\n",
      "45/45 [==============================] - 0s 5ms/step - loss: 1.5727 - accuracy: 0.3862\n",
      "Epoch 7/15\n",
      "45/45 [==============================] - 0s 4ms/step - loss: 1.4683 - accuracy: 0.3793\n",
      "Epoch 8/15\n",
      "45/45 [==============================] - 0s 4ms/step - loss: 1.3662 - accuracy: 0.4454\n",
      "Epoch 9/15\n",
      "45/45 [==============================] - 0s 8ms/step - loss: 1.3490 - accuracy: 0.4656\n",
      "Epoch 10/15\n",
      "45/45 [==============================] - 0s 9ms/step - loss: 1.7031 - accuracy: 0.3410\n",
      "Epoch 11/15\n",
      "45/45 [==============================] - 0s 4ms/step - loss: 1.3235 - accuracy: 0.4544\n",
      "Epoch 12/15\n",
      "45/45 [==============================] - 0s 3ms/step - loss: 1.2521 - accuracy: 0.4899\n",
      "Epoch 13/15\n",
      "45/45 [==============================] - 0s 3ms/step - loss: 1.2162 - accuracy: 0.5031\n",
      "Epoch 14/15\n",
      "45/45 [==============================] - 0s 4ms/step - loss: 1.1589 - accuracy: 0.5414\n",
      "Epoch 15/15\n",
      "45/45 [==============================] - 0s 3ms/step - loss: 1.1391 - accuracy: 0.5588\n"
     ]
    }
   ],
   "source": [
    "# Increase the leanring rate of the SGD by a factor of 10, defualt is 0.01\n",
    "\n",
    "from tensorflow.keras import optimizers\n",
    "#from tensorflow.keras.models import Sequential\n",
    "#from tensorflow.keras.layers import Dense\n",
    "\n",
    "model = Sequential()\n",
    "\n",
    "# Input layer\n",
    "model.add(Dense(64, activation='relu', input_shape=(64,))) # 64 neurons, ReLU activation, input shape of 64\n",
    "\n",
    "# Hidden layer\n",
    "model.add(Dense(64, activation='relu')) # 64 neurons, ReLU activation\n",
    "\n",
    "# Output layer\n",
    "model.add(Dense(10, activation='softmax')) # 10 neurons, softmax activation\n",
    "\n",
    "model.summary()\n",
    "\n",
    "model.compile(\n",
    "    optimizer=optimizers.SGD(learning_rate = 0.1), ### change the learning rate (default is 0.01 if not defined), \n",
    "    ### a larger step is making the loss result jumping back and force\n",
    "\n",
    "    loss='categorical_crossentropy', # Loss function\n",
    "    #optimizer='sgd', # Optimizer\n",
    "    metrics=['accuracy'] # Metrics to evaluate the model\n",
    ")\n",
    "\n",
    "history = model.fit(X_train, y_train, epochs=15,batch_size=32)"
   ]
  },
  {
   "cell_type": "code",
   "execution_count": 20,
   "metadata": {},
   "outputs": [
    {
     "name": "stdout",
     "output_type": "stream",
     "text": [
      "Model: \"sequential_3\"\n",
      "_________________________________________________________________\n",
      " Layer (type)                Output Shape              Param #   \n",
      "=================================================================\n",
      " dense_9 (Dense)             (None, 64)                4160      \n",
      "                                                                 \n",
      " dense_10 (Dense)            (None, 64)                4160      \n",
      "                                                                 \n",
      " dense_11 (Dense)            (None, 10)                650       \n",
      "                                                                 \n",
      "=================================================================\n",
      "Total params: 8,970\n",
      "Trainable params: 8,970\n",
      "Non-trainable params: 0\n",
      "_________________________________________________________________\n",
      "Epoch 1/15\n",
      "45/45 [==============================] - 1s 5ms/step - loss: 1.6043 - accuracy: 0.6249\n",
      "Epoch 2/15\n",
      "45/45 [==============================] - 0s 5ms/step - loss: 0.2687 - accuracy: 0.9088\n",
      "Epoch 3/15\n",
      "45/45 [==============================] - 0s 9ms/step - loss: 0.1694 - accuracy: 0.9422\n",
      "Epoch 4/15\n",
      "45/45 [==============================] - 0s 4ms/step - loss: 0.2395 - accuracy: 0.9193\n",
      "Epoch 5/15\n",
      "45/45 [==============================] - 0s 5ms/step - loss: 0.1102 - accuracy: 0.9610\n",
      "Epoch 6/15\n",
      "45/45 [==============================] - 0s 4ms/step - loss: 0.0613 - accuracy: 0.9798\n",
      "Epoch 7/15\n",
      "45/45 [==============================] - 0s 5ms/step - loss: 0.0483 - accuracy: 0.9847\n",
      "Epoch 8/15\n",
      "45/45 [==============================] - 0s 5ms/step - loss: 0.0321 - accuracy: 0.9903\n",
      "Epoch 9/15\n",
      "45/45 [==============================] - 0s 5ms/step - loss: 0.0253 - accuracy: 0.9923\n",
      "Epoch 10/15\n",
      "45/45 [==============================] - 0s 6ms/step - loss: 0.0110 - accuracy: 0.9986\n",
      "Epoch 11/15\n",
      "45/45 [==============================] - 0s 4ms/step - loss: 0.0069 - accuracy: 0.9993\n",
      "Epoch 12/15\n",
      "45/45 [==============================] - 0s 4ms/step - loss: 0.0126 - accuracy: 0.9972\n",
      "Epoch 13/15\n",
      "45/45 [==============================] - 0s 11ms/step - loss: 0.0066 - accuracy: 0.9986\n",
      "Epoch 14/15\n",
      "45/45 [==============================] - 0s 4ms/step - loss: 0.0062 - accuracy: 0.9993\n",
      "Epoch 15/15\n",
      "45/45 [==============================] - 0s 5ms/step - loss: 0.0029 - accuracy: 1.0000\n"
     ]
    }
   ],
   "source": [
    "# Enable momentum in the optimizer, while keeping the learning rate at default 0.01\n",
    "# momentum is remembering the size of the step and the direction of the step, and leverage that decide where to go next\n",
    "\n",
    "from tensorflow.keras import optimizers\n",
    "#from tensorflow.keras.models import Sequential\n",
    "#from tensorflow.keras.layers import Dense\n",
    "\n",
    "model = Sequential()\n",
    "\n",
    "# Input layer\n",
    "model.add(Dense(64, activation='relu', input_shape=(64,))) # 64 neurons, ReLU activation, input shape of 64\n",
    "\n",
    "# Hidden layer\n",
    "model.add(Dense(64, activation='relu')) # 64 neurons, ReLU activation\n",
    "\n",
    "# Output layer\n",
    "model.add(Dense(10, activation='softmax')) # 10 neurons, softmax activation\n",
    "\n",
    "model.summary()\n",
    "\n",
    "model.compile(\n",
    "    optimizer=optimizers.SGD(learning_rate = 0.01, momentum=0.9), ### change the learning rate (default is 0.01 if not defined), \n",
    "    ### a larger step is making the loss result jumping back and force\n",
    "\n",
    "    loss='categorical_crossentropy', # Loss function\n",
    "    #optimizer='sgd', # Optimizer\n",
    "    metrics=['accuracy'] # Metrics to evaluate the model\n",
    ")\n",
    "\n",
    "history = model.fit(X_train, y_train, epochs=15,batch_size=32)"
   ]
  },
  {
   "cell_type": "markdown",
   "metadata": {},
   "source": [
    "Next, let's try a more advanced optimizer. Adam is likely the most popular optimizer for deep learning. It is an adaptive learning rate optimizer, which means that it automatically adjusts the learning rate based on how the training is going. This can be very useful, as it means that we don't need to manually tune the learning rate. Let's see how it performs on our model.\n",
    "\n",
    "\n",
    "1. Replace the SGD optimizer by the Adam optimizer from keras and run it\n",
    "  with the default parameters.\n",
    "\n",
    "2. Add another hidden layer with ReLU activation and 64 neurons. Does it improve the model performance?\n"
   ]
  },
  {
   "cell_type": "code",
   "execution_count": 21,
   "metadata": {},
   "outputs": [
    {
     "name": "stdout",
     "output_type": "stream",
     "text": [
      "Epoch 1/15\n",
      "45/45 [==============================] - 1s 5ms/step - loss: 0.0037 - accuracy: 1.0000\n",
      "Epoch 2/15\n",
      "45/45 [==============================] - 0s 5ms/step - loss: 0.0033 - accuracy: 1.0000\n",
      "Epoch 3/15\n",
      "45/45 [==============================] - 0s 5ms/step - loss: 0.0013 - accuracy: 1.0000\n",
      "Epoch 4/15\n",
      "45/45 [==============================] - 0s 5ms/step - loss: 9.8638e-04 - accuracy: 1.0000\n",
      "Epoch 5/15\n",
      "45/45 [==============================] - 0s 5ms/step - loss: 8.0415e-04 - accuracy: 1.0000\n",
      "Epoch 6/15\n",
      "45/45 [==============================] - 0s 5ms/step - loss: 6.8590e-04 - accuracy: 1.0000\n",
      "Epoch 7/15\n",
      "45/45 [==============================] - 0s 10ms/step - loss: 5.2776e-04 - accuracy: 1.0000\n",
      "Epoch 8/15\n",
      "45/45 [==============================] - 0s 5ms/step - loss: 4.8521e-04 - accuracy: 1.0000\n",
      "Epoch 9/15\n",
      "45/45 [==============================] - 0s 5ms/step - loss: 4.1332e-04 - accuracy: 1.0000\n",
      "Epoch 10/15\n",
      "45/45 [==============================] - 0s 5ms/step - loss: 3.5419e-04 - accuracy: 1.0000\n",
      "Epoch 11/15\n",
      "45/45 [==============================] - 0s 5ms/step - loss: 3.0400e-04 - accuracy: 1.0000\n",
      "Epoch 12/15\n",
      "45/45 [==============================] - 0s 5ms/step - loss: 2.6713e-04 - accuracy: 1.0000\n",
      "Epoch 13/15\n",
      "45/45 [==============================] - 0s 5ms/step - loss: 2.2287e-04 - accuracy: 1.0000\n",
      "Epoch 14/15\n",
      "45/45 [==============================] - 0s 5ms/step - loss: 1.9979e-04 - accuracy: 1.0000\n",
      "Epoch 15/15\n",
      "45/45 [==============================] - 0s 5ms/step - loss: 1.7863e-04 - accuracy: 1.0000\n"
     ]
    }
   ],
   "source": [
    "# Your code here\n",
    "# Replace the SGD optimizer by the Adam optimizer\n",
    "\n",
    "model.compile(\n",
    "    optimizer='adam', # Optimizer\n",
    "    loss='categorical_crossentropy', # Loss function\n",
    "    metrics=['accuracy'] # Metrics to evaluate the model\n",
    ")\n",
    "\n",
    "history = model.fit(X_train, y_train, epochs=15,batch_size=32)"
   ]
  },
  {
   "cell_type": "code",
   "execution_count": 22,
   "metadata": {},
   "outputs": [
    {
     "name": "stdout",
     "output_type": "stream",
     "text": [
      "Model: \"sequential_4\"\n",
      "_________________________________________________________________\n",
      " Layer (type)                Output Shape              Param #   \n",
      "=================================================================\n",
      " dense_12 (Dense)            (None, 64)                4160      \n",
      "                                                                 \n",
      " dense_13 (Dense)            (None, 64)                4160      \n",
      "                                                                 \n",
      " dense_14 (Dense)            (None, 64)                4160      \n",
      "                                                                 \n",
      " dense_15 (Dense)            (None, 10)                650       \n",
      "                                                                 \n",
      "=================================================================\n",
      "Total params: 13,130\n",
      "Trainable params: 13,130\n",
      "Non-trainable params: 0\n",
      "_________________________________________________________________\n",
      "Epoch 1/15\n",
      "45/45 [==============================] - 1s 4ms/step - loss: 1.4877 - accuracy: 0.5477\n",
      "Epoch 2/15\n",
      "45/45 [==============================] - 0s 5ms/step - loss: 0.3843 - accuracy: 0.8914\n",
      "Epoch 3/15\n",
      "45/45 [==============================] - 0s 5ms/step - loss: 0.1893 - accuracy: 0.9478\n",
      "Epoch 4/15\n",
      "45/45 [==============================] - 0s 5ms/step - loss: 0.1235 - accuracy: 0.9659\n",
      "Epoch 5/15\n",
      "45/45 [==============================] - 0s 11ms/step - loss: 0.0777 - accuracy: 0.9847\n",
      "Epoch 6/15\n",
      "45/45 [==============================] - 0s 5ms/step - loss: 0.0660 - accuracy: 0.9840\n",
      "Epoch 7/15\n",
      "45/45 [==============================] - 0s 5ms/step - loss: 0.0415 - accuracy: 0.9923\n",
      "Epoch 8/15\n",
      "45/45 [==============================] - 0s 5ms/step - loss: 0.0290 - accuracy: 0.9972\n",
      "Epoch 9/15\n",
      "45/45 [==============================] - 0s 5ms/step - loss: 0.0223 - accuracy: 0.9965\n",
      "Epoch 10/15\n",
      "45/45 [==============================] - 0s 5ms/step - loss: 0.0157 - accuracy: 0.9993\n",
      "Epoch 11/15\n",
      "45/45 [==============================] - 0s 4ms/step - loss: 0.0127 - accuracy: 0.9993\n",
      "Epoch 12/15\n",
      "45/45 [==============================] - 0s 5ms/step - loss: 0.0118 - accuracy: 0.9993\n",
      "Epoch 13/15\n",
      "45/45 [==============================] - 0s 5ms/step - loss: 0.0085 - accuracy: 0.9993\n",
      "Epoch 14/15\n",
      "45/45 [==============================] - 0s 6ms/step - loss: 0.0068 - accuracy: 0.9993\n",
      "Epoch 15/15\n",
      "45/45 [==============================] - 0s 5ms/step - loss: 0.0054 - accuracy: 1.0000\n"
     ]
    }
   ],
   "source": [
    "# Add another hidden layer with Relu activation and 64 neurons\n",
    "\n",
    "model = Sequential()\n",
    "\n",
    "# Input layer\n",
    "model.add(Dense(64, activation='relu', input_shape=(64,))) # 64 neurons, ReLU activation, input shape of 64\n",
    "\n",
    "# Hidden layer\n",
    "model.add(Dense(64, activation='relu')) # 64 neurons, ReLU activation\n",
    "\n",
    "# Hidden layer\n",
    "model.add(Dense(64, activation='relu')) # 64 neurons, ReLU activation\n",
    "\n",
    "# Output layer\n",
    "model.add(Dense(10, activation='softmax')) # 10 neurons, softmax activation\n",
    "\n",
    "model.summary()\n",
    "\n",
    "\n",
    "model.compile(\n",
    "    optimizer='adam', # Optimizer\n",
    "    loss='categorical_crossentropy', # Loss function\n",
    "    metrics=['accuracy'] # Metrics to evaluate the model\n",
    ")\n",
    "\n",
    "history = model.fit(X_train, y_train, epochs=15,batch_size=32)"
   ]
  },
  {
   "cell_type": "markdown",
   "metadata": {},
   "source": [
    "### Exercises: Forward Pass and Generalization\n",
    "\n",
    "Let's look in more detail at how the model makes predictions on the test set. We will walk through each step of making predictions, examining exactly what's going on.\n",
    "\n",
    "To start, we will apply our model to the test set, and look at what we get as output:"
   ]
  },
  {
   "cell_type": "code",
   "execution_count": 23,
   "metadata": {},
   "outputs": [
    {
     "data": {
      "text/plain": [
       "<tf.Tensor: shape=(5, 10), dtype=float32, numpy=\n",
       "array([[1.64070779e-09, 6.17476326e-06, 5.69137697e-08, 1.68004064e-07,\n",
       "        1.65433164e-07, 6.19102494e-08, 9.99961674e-01, 3.02478433e-08,\n",
       "        3.16663354e-05, 1.28110393e-08],\n",
       "       [1.07984272e-06, 2.25964292e-09, 8.88494500e-10, 1.10333465e-04,\n",
       "        6.13159818e-06, 3.00724991e-03, 9.14085387e-12, 8.28738052e-07,\n",
       "        2.37813288e-06, 9.96872067e-01],\n",
       "       [3.92902898e-11, 2.87852780e-11, 1.68620579e-06, 9.99995410e-01,\n",
       "        1.55616700e-11, 1.03959302e-07, 1.05815508e-12, 1.04928835e-11,\n",
       "        1.54674319e-06, 1.24447274e-06],\n",
       "       [1.70975054e-05, 3.33421085e-05, 1.69153864e-05, 1.20560708e-03,\n",
       "        1.38949245e-05, 2.32964212e-05, 1.09600151e-08, 9.98143673e-01,\n",
       "        1.59894225e-05, 5.30156598e-04],\n",
       "       [1.90756282e-07, 7.88628007e-09, 9.98464644e-01, 1.37548696e-03,\n",
       "        1.04371449e-12, 1.09384490e-09, 1.33139125e-07, 2.00738086e-07,\n",
       "        1.57657720e-04, 1.56260535e-06]], dtype=float32)>"
      ]
     },
     "execution_count": 23,
     "metadata": {},
     "output_type": "execute_result"
    }
   ],
   "source": [
    "predictions_tf = model(X_test)\n",
    "predictions_tf[:5]"
   ]
  },
  {
   "cell_type": "code",
   "execution_count": 24,
   "metadata": {},
   "outputs": [
    {
     "data": {
      "text/plain": [
       "(tensorflow.python.framework.ops.EagerTensor, TensorShape([360, 10]))"
      ]
     },
     "execution_count": 24,
     "metadata": {},
     "output_type": "execute_result"
    }
   ],
   "source": [
    "type(predictions_tf), predictions_tf.shape"
   ]
  },
  {
   "cell_type": "markdown",
   "metadata": {},
   "source": [
    "The raw output of the model is a tensor of shape `(360, 10)`. This means that we have 360 samples, and for each sample we have 10 values. Each of these values represents the probability that the sample belongs to a given class. This means that we have 10 probabilities for each sample, and the sum of these probabilities is 1. We can confirm this by summing the probabilities for each sample:"
   ]
  },
  {
   "cell_type": "code",
   "execution_count": 26,
   "metadata": {},
   "outputs": [
    {
     "data": {
      "text/plain": [
       "<tf.Tensor: shape=(5,), dtype=float32, numpy=\n",
       "array([1.       , 1.0000001, 1.       , 1.       , 0.9999998],\n",
       "      dtype=float32)>"
      ]
     },
     "execution_count": 26,
     "metadata": {},
     "output_type": "execute_result"
    }
   ],
   "source": [
    "import tensorflow as tf\n",
    "\n",
    "tf.reduce_sum(predictions_tf, axis=1)[:5]"
   ]
  },
  {
   "cell_type": "markdown",
   "metadata": {
    "collapsed": false
   },
   "source": [
    "...okay, there might be a small rounding error here and there. This is to do with how floating point numbers are represented in computers, and it's not something we need to worry about for now."
   ]
  },
  {
   "cell_type": "markdown",
   "metadata": {},
   "source": [
    "We can also extract the label with the highest probability using the tensorflow API:"
   ]
  },
  {
   "cell_type": "code",
   "execution_count": 27,
   "metadata": {},
   "outputs": [
    {
     "data": {
      "text/plain": [
       "<tf.Tensor: shape=(5,), dtype=int64, numpy=array([6, 9, 3, 7, 2], dtype=int64)>"
      ]
     },
     "execution_count": 27,
     "metadata": {},
     "output_type": "execute_result"
    }
   ],
   "source": [
    "predicted_labels_tf = tf.argmax(predictions_tf, axis=1)\n",
    "predicted_labels_tf[:5]"
   ]
  },
  {
   "cell_type": "markdown",
   "metadata": {
    "collapsed": false
   },
   "source": [
    "One helpful aspect of this approach is that we don't just get the prediction, but also a sense of how confident the model is in its prediction. To see this in practice, let's take a look at some of the predictions the model is highly confident about (i.e. a lot of the probability mass is on one class):"
   ]
  },
  {
   "cell_type": "code",
   "execution_count": 28,
   "metadata": {
    "collapsed": false
   },
   "outputs": [
    {
     "data": {
      "image/png": "[encoded data removed]",
      "text/plain": [
       "<Figure size 600x600 with 9 Axes>"
      ]
     },
     "metadata": {},
     "output_type": "display_data"
    }
   ],
   "source": [
    "# Get the values corresponding to the predicted labels for each sample\n",
    "predicted_values_tf = tf.reduce_max(predictions_tf, axis=1)\n",
    "\n",
    "# Get the indices of the samples with the highest predicted values\n",
    "most_confident_indices_tf = tf.argsort(predicted_values_tf, direction='DESCENDING').numpy()[:9]\n",
    "\n",
    "# Get the 9 most confident samples\n",
    "most_confident_samples_tf = X_test[most_confident_indices_tf]\n",
    "\n",
    "# Get the true labels for the 9 most confident samples\n",
    "most_confident_labels_tf = np.argmax(y_test[most_confident_indices_tf], axis=1)\n",
    "\n",
    "# Plot the 9 most confident samples\n",
    "fig, axes = plt.subplots(3, 3, figsize=(6, 6))\n",
    "\n",
    "for i, ax in enumerate(axes.flat):\n",
    "    ax.imshow(most_confident_samples_tf[i].reshape(8, 8), cmap=plt.cm.gray_r, interpolation='nearest')\n",
    "    ax.set_title(f\"{most_confident_labels_tf[i]}\")\n",
    "\n",
    "    # Removing axis labels\n",
    "    ax.set_xticks([])\n",
    "    ax.set_yticks([])\n",
    "    \n",
    "plt.show()"
   ]
  },
  {
   "cell_type": "markdown",
   "metadata": {},
   "source": [
    "## Impact of Initialization\n",
    "\n",
    "Let's study the impact of a bad initialization when training\n",
    "a deep feed forward network.\n",
    "\n",
    "By default, Keras dense layers use the \"Glorot Uniform\" initialization\n",
    "strategy to initialize the weight matrices:\n",
    "\n",
    "- each weight coefficient is randomly sampled from [-scale, scale]\n",
    "- scale is proportional to $\\frac{1}{\\sqrt{n_{in} + n_{out}}}$\n",
    "\n",
    "This strategy is known to work well to initialize deep neural networks\n",
    "with \"tanh\" or \"relu\" activation functions and then trained with\n",
    "standard SGD.\n",
    "\n",
    "To assess the impact of initialization let us plug an alternative init\n",
    "scheme into a 2 hidden layers networks with \"tanh\" activations.\n",
    "For the sake of the example let's use normal distributed weights\n",
    "with a manually adjustable scale (standard deviation) and see the\n",
    "impact the scale value:"
   ]
  },
  {
   "cell_type": "code",
   "execution_count": 33,
   "metadata": {},
   "outputs": [],
   "source": [
    "from tensorflow.keras import initializers\n",
    "from tensorflow.keras import optimizers\n",
    "\n",
    "input_dim = 64\n",
    "hidden_dim = 64\n",
    "output_dim = 10\n",
    "\n",
    "normal_init = initializers.TruncatedNormal(stddev=0.01, seed=42)\n",
    "\n",
    "model = Sequential()\n",
    "model.add(Dense(hidden_dim, input_dim=input_dim, activation=\"tanh\",\n",
    "                kernel_initializer=normal_init))\n",
    "model.add(Dense(hidden_dim, activation=\"tanh\",\n",
    "                kernel_initializer=normal_init))\n",
    "model.add(Dense(output_dim, activation=\"softmax\",\n",
    "                kernel_initializer=normal_init))\n",
    "\n",
    "model.compile(optimizer=optimizers.SGD(learning_rate=0.1),\n",
    "              loss='categorical_crossentropy', metrics=['accuracy'])"
   ]
  },
  {
   "cell_type": "code",
   "execution_count": 34,
   "metadata": {},
   "outputs": [
    {
     "data": {
      "text/plain": [
       "[<keras.layers.core.dense.Dense at 0x20f6e70ca00>,\n",
       " <keras.layers.core.dense.Dense at 0x20f6e6eca30>,\n",
       " <keras.layers.core.dense.Dense at 0x20f6e6bb760>]"
      ]
     },
     "execution_count": 34,
     "metadata": {},
     "output_type": "execute_result"
    }
   ],
   "source": [
    "model.layers"
   ]
  },
  {
   "cell_type": "markdown",
   "metadata": {},
   "source": [
    "Let's have a look at the parameters of the first layer after initialization but before any training has happened:"
   ]
  },
  {
   "cell_type": "code",
   "execution_count": 35,
   "metadata": {},
   "outputs": [
    {
     "data": {
      "text/plain": [
       "[<tf.Variable 'dense_22/kernel:0' shape=(64, 64) dtype=float32, numpy=\n",
       " array([[ 0.00015817, -0.01590087,  0.00103594, ...,  0.00962818,\n",
       "          0.00624957,  0.00994726],\n",
       "        [ 0.0081879 ,  0.00756818, -0.00668142, ...,  0.01084459,\n",
       "         -0.00317478, -0.00549116],\n",
       "        [-0.00086618, -0.00287623,  0.00391693, ...,  0.00064558,\n",
       "         -0.00420471,  0.00174566],\n",
       "        ...,\n",
       "        [-0.0029006 , -0.0091218 ,  0.00804327, ..., -0.01407086,\n",
       "          0.00952832, -0.01348555],\n",
       "        [ 0.00375078,  0.00967842,  0.00098119, ..., -0.00413454,\n",
       "          0.01695471,  0.00025196],\n",
       "        [ 0.00459809,  0.01223094, -0.00213172, ...,  0.01246831,\n",
       "         -0.00714749, -0.00868595]], dtype=float32)>,\n",
       " <tf.Variable 'dense_22/bias:0' shape=(64,) dtype=float32, numpy=\n",
       " array([0., 0., 0., 0., 0., 0., 0., 0., 0., 0., 0., 0., 0., 0., 0., 0., 0.,\n",
       "        0., 0., 0., 0., 0., 0., 0., 0., 0., 0., 0., 0., 0., 0., 0., 0., 0.,\n",
       "        0., 0., 0., 0., 0., 0., 0., 0., 0., 0., 0., 0., 0., 0., 0., 0., 0.,\n",
       "        0., 0., 0., 0., 0., 0., 0., 0., 0., 0., 0., 0., 0.], dtype=float32)>]"
      ]
     },
     "execution_count": 35,
     "metadata": {},
     "output_type": "execute_result"
    }
   ],
   "source": [
    "model.layers[0].weights"
   ]
  },
  {
   "cell_type": "code",
   "execution_count": 36,
   "metadata": {},
   "outputs": [
    {
     "data": {
      "text/plain": [
       "array([[ 0.00015817, -0.01590087,  0.00103594, ...,  0.00962818,\n",
       "         0.00624957,  0.00994726],\n",
       "       [ 0.0081879 ,  0.00756818, -0.00668142, ...,  0.01084459,\n",
       "        -0.00317478, -0.00549116],\n",
       "       [-0.00086618, -0.00287623,  0.00391693, ...,  0.00064558,\n",
       "        -0.00420471,  0.00174566],\n",
       "       ...,\n",
       "       [-0.0029006 , -0.0091218 ,  0.00804327, ..., -0.01407086,\n",
       "         0.00952832, -0.01348555],\n",
       "       [ 0.00375078,  0.00967842,  0.00098119, ..., -0.00413454,\n",
       "         0.01695471,  0.00025196],\n",
       "       [ 0.00459809,  0.01223094, -0.00213172, ...,  0.01246831,\n",
       "        -0.00714749, -0.00868595]], dtype=float32)"
      ]
     },
     "execution_count": 36,
     "metadata": {},
     "output_type": "execute_result"
    }
   ],
   "source": [
    "w = model.layers[0].weights[0].numpy()\n",
    "w"
   ]
  },
  {
   "cell_type": "code",
   "execution_count": 38,
   "metadata": {},
   "outputs": [
    {
     "data": {
      "text/plain": [
       "0.008835949"
      ]
     },
     "execution_count": 38,
     "metadata": {},
     "output_type": "execute_result"
    }
   ],
   "source": [
    "w.std()"
   ]
  },
  {
   "cell_type": "code",
   "execution_count": 39,
   "metadata": {},
   "outputs": [
    {
     "data": {
      "text/plain": [
       "array([0., 0., 0., 0., 0., 0., 0., 0., 0., 0., 0., 0., 0., 0., 0., 0., 0.,\n",
       "       0., 0., 0., 0., 0., 0., 0., 0., 0., 0., 0., 0., 0., 0., 0., 0., 0.,\n",
       "       0., 0., 0., 0., 0., 0., 0., 0., 0., 0., 0., 0., 0., 0., 0., 0., 0.,\n",
       "       0., 0., 0., 0., 0., 0., 0., 0., 0., 0., 0., 0., 0.], dtype=float32)"
      ]
     },
     "execution_count": 39,
     "metadata": {},
     "output_type": "execute_result"
    }
   ],
   "source": [
    "b = model.layers[0].weights[1].numpy()\n",
    "b"
   ]
  },
  {
   "cell_type": "code",
   "execution_count": 40,
   "metadata": {},
   "outputs": [
    {
     "name": "stdout",
     "output_type": "stream",
     "text": [
      "Epoch 1/15\n",
      "45/45 [==============================] - 1s 6ms/step - loss: 2.2867 - accuracy: 0.2102\n",
      "Epoch 2/15\n",
      "45/45 [==============================] - 0s 5ms/step - loss: 1.7295 - accuracy: 0.4315\n",
      "Epoch 3/15\n",
      "45/45 [==============================] - 0s 5ms/step - loss: 1.0083 - accuracy: 0.7098\n",
      "Epoch 4/15\n",
      "45/45 [==============================] - 0s 11ms/step - loss: 0.5608 - accuracy: 0.8532\n",
      "Epoch 5/15\n",
      "45/45 [==============================] - 0s 5ms/step - loss: 0.3344 - accuracy: 0.9200\n",
      "Epoch 6/15\n",
      "45/45 [==============================] - 0s 5ms/step - loss: 0.2538 - accuracy: 0.9318\n",
      "Epoch 7/15\n",
      "45/45 [==============================] - 0s 6ms/step - loss: 0.1640 - accuracy: 0.9673\n",
      "Epoch 8/15\n",
      "45/45 [==============================] - 0s 5ms/step - loss: 0.1280 - accuracy: 0.9708\n",
      "Epoch 9/15\n",
      "45/45 [==============================] - 0s 5ms/step - loss: 0.1125 - accuracy: 0.9736\n",
      "Epoch 10/15\n",
      "45/45 [==============================] - 0s 5ms/step - loss: 0.0897 - accuracy: 0.9784\n",
      "Epoch 11/15\n",
      "45/45 [==============================] - 0s 5ms/step - loss: 0.0861 - accuracy: 0.9812\n",
      "Epoch 12/15\n",
      "45/45 [==============================] - 0s 5ms/step - loss: 0.0759 - accuracy: 0.9812\n",
      "Epoch 13/15\n",
      "45/45 [==============================] - 0s 5ms/step - loss: 0.0561 - accuracy: 0.9861\n",
      "Epoch 14/15\n",
      "45/45 [==============================] - 0s 9ms/step - loss: 0.0454 - accuracy: 0.9916\n",
      "Epoch 15/15\n",
      "45/45 [==============================] - 0s 5ms/step - loss: 0.0378 - accuracy: 0.9923\n"
     ]
    },
    {
     "data": {
      "image/png": "[encoded data removed]",
      "text/plain": [
       "<Figure size 1200x400 with 1 Axes>"
      ]
     },
     "metadata": {},
     "output_type": "display_data"
    }
   ],
   "source": [
    "history = model.fit(X_train, y_train, epochs=15, batch_size=32)\n",
    "\n",
    "plt.figure(figsize=(12, 4))\n",
    "plt.plot(history.history['loss'], label=\"Truncated Normal init\")\n",
    "plt.legend();"
   ]
  },
  {
   "cell_type": "markdown",
   "metadata": {},
   "source": [
    "Once the model has been fit, the weights have been updated and notably the biases are no longer 0:"
   ]
  },
  {
   "cell_type": "code",
   "execution_count": 41,
   "metadata": {},
   "outputs": [
    {
     "data": {
      "text/plain": [
       "[<tf.Variable 'dense_22/kernel:0' shape=(64, 64) dtype=float32, numpy=\n",
       " array([[ 1.58170762e-04, -1.59008689e-02,  1.03594456e-03, ...,\n",
       "          9.62818228e-03,  6.24957308e-03,  9.94726177e-03],\n",
       "        [ 1.50223104e-02, -1.75165664e-02, -9.40628722e-03, ...,\n",
       "         -1.14898738e-02, -1.78228468e-02, -1.73616391e-02],\n",
       "        [ 4.18865681e-02, -8.57756585e-02, -6.64944723e-02, ...,\n",
       "         -2.74904687e-02, -1.02221437e-01,  9.07344595e-02],\n",
       "        ...,\n",
       "        [ 8.46498832e-03,  5.13234474e-02,  1.27552569e-01, ...,\n",
       "         -9.35350135e-02,  3.89335752e-02, -1.67889148e-01],\n",
       "        [ 2.87145115e-02,  1.47629566e-02,  9.63516682e-02, ...,\n",
       "         -7.19047263e-02, -1.85674280e-02, -1.09383404e-01],\n",
       "        [ 2.87690703e-02,  1.87487528e-02,  4.97834235e-02, ...,\n",
       "          6.18654154e-02,  4.57911715e-02, -4.87553068e-02]], dtype=float32)>,\n",
       " <tf.Variable 'dense_22/bias:0' shape=(64,) dtype=float32, numpy=\n",
       " array([-2.7138001e-04,  1.0785811e-03,  6.6474616e-04, -3.1197779e-03,\n",
       "        -4.5201899e-03, -2.8003522e-04, -1.3761618e-03, -5.7761652e-05,\n",
       "        -9.7181648e-05, -2.2139722e-03,  9.4269618e-04,  4.5823604e-03,\n",
       "         3.4201641e-03,  4.8429490e-04,  2.8757125e-03,  5.5046950e-04,\n",
       "         2.8620416e-03,  1.3055515e-03, -1.7244802e-03, -1.2815514e-03,\n",
       "         7.5654639e-04, -7.5458229e-04,  2.6826747e-03, -1.2700753e-03,\n",
       "        -1.4248148e-03,  8.0457749e-04, -1.0482193e-03,  7.8250642e-04,\n",
       "         2.7567365e-03, -1.3322362e-03,  3.6417507e-03, -1.5970732e-03,\n",
       "         1.0329224e-03,  1.0675337e-03,  6.0858347e-05, -1.1821064e-03,\n",
       "         1.8941044e-04, -3.8613242e-03, -3.7754877e-03,  9.7825762e-04,\n",
       "         2.1114149e-03, -7.3760754e-04, -2.3697718e-04,  7.4854901e-04,\n",
       "         1.7511806e-03, -7.6669785e-05,  1.9607476e-03, -1.5665727e-03,\n",
       "         1.1123793e-03,  2.8340020e-03, -3.1660374e-03, -2.1501265e-03,\n",
       "        -5.8488781e-03, -4.5029316e-03, -4.9543637e-03, -3.0021239e-03,\n",
       "        -1.2306480e-03,  1.1850627e-03,  2.2674785e-03,  8.1712136e-04,\n",
       "        -3.6216361e-04,  6.7612139e-04, -3.5873067e-03,  1.8549124e-03],\n",
       "       dtype=float32)>]"
      ]
     },
     "execution_count": 41,
     "metadata": {},
     "output_type": "execute_result"
    }
   ],
   "source": [
    "model.layers[0].weights"
   ]
  },
  {
   "cell_type": "markdown",
   "metadata": {},
   "source": [
    "#### Questions:\n",
    "\n",
    "- Try the following initialization schemes and see whether\n",
    "  the SGD algorithm can successfully train the network or\n",
    "  not:\n",
    "  \n",
    "  - a very small e.g. `stddev=1e-3`\n",
    "  - a larger scale e.g. `stddev=1` or `10`\n",
    "  - initialize all weights to 0 (constant initialization)\n",
    "  \n",
    "- What do you observe? Can you find an explanation for those\n",
    "  outcomes?\n",
    "\n",
    "- Are more advanced solvers such as SGD with momentum or Adam able\n",
    "  to deal better with such bad initializations?"
   ]
  },
  {
   "cell_type": "code",
   "execution_count": 42,
   "metadata": {},
   "outputs": [
    {
     "name": "stdout",
     "output_type": "stream",
     "text": [
      "\n",
      "Training model with stddev = 0.001\n",
      "Epoch 1/15\n",
      "45/45 [==============================] - 2s 5ms/step - loss: 2.3036 - accuracy: 0.0960\n",
      "Epoch 2/15\n",
      "45/45 [==============================] - 0s 4ms/step - loss: 2.3032 - accuracy: 0.0981\n",
      "Epoch 3/15\n",
      "45/45 [==============================] - 0s 4ms/step - loss: 2.3032 - accuracy: 0.1072\n",
      "Epoch 4/15\n",
      "45/45 [==============================] - 0s 4ms/step - loss: 2.3030 - accuracy: 0.1016\n",
      "Epoch 5/15\n",
      "45/45 [==============================] - 0s 4ms/step - loss: 2.3032 - accuracy: 0.1072\n",
      "Epoch 6/15\n",
      "45/45 [==============================] - 0s 4ms/step - loss: 2.3031 - accuracy: 0.1009\n",
      "Epoch 7/15\n",
      "45/45 [==============================] - 0s 4ms/step - loss: 2.3030 - accuracy: 0.1072\n",
      "Epoch 8/15\n",
      "45/45 [==============================] - 0s 4ms/step - loss: 2.3031 - accuracy: 0.1072\n",
      "Epoch 9/15\n",
      "45/45 [==============================] - 1s 12ms/step - loss: 2.3018 - accuracy: 0.1030\n",
      "Epoch 10/15\n",
      "45/45 [==============================] - 1s 12ms/step - loss: 2.1327 - accuracy: 0.1768\n",
      "Epoch 11/15\n",
      "45/45 [==============================] - 0s 5ms/step - loss: 1.7943 - accuracy: 0.2018\n",
      "Epoch 12/15\n",
      "45/45 [==============================] - 0s 6ms/step - loss: 1.6218 - accuracy: 0.2693\n",
      "Epoch 13/15\n",
      "45/45 [==============================] - 0s 4ms/step - loss: 1.4169 - accuracy: 0.3577\n",
      "Epoch 14/15\n",
      "45/45 [==============================] - 0s 5ms/step - loss: 1.2525 - accuracy: 0.4656\n",
      "Epoch 15/15\n",
      "45/45 [==============================] - 0s 5ms/step - loss: 0.8482 - accuracy: 0.6903\n",
      "\n",
      "Training model with stddev = 1\n",
      "Epoch 1/15\n",
      "45/45 [==============================] - 2s 13ms/step - loss: 3.8125 - accuracy: 0.3187\n",
      "Epoch 2/15\n",
      "45/45 [==============================] - 1s 25ms/step - loss: 2.1053 - accuracy: 0.4294\n",
      "Epoch 3/15\n",
      "45/45 [==============================] - 1s 23ms/step - loss: 1.5390 - accuracy: 0.5414\n",
      "Epoch 4/15\n",
      "45/45 [==============================] - 0s 6ms/step - loss: 1.1918 - accuracy: 0.6235\n",
      "Epoch 5/15\n",
      "45/45 [==============================] - 0s 5ms/step - loss: 0.9848 - accuracy: 0.7008\n",
      "Epoch 6/15\n",
      "45/45 [==============================] - 1s 15ms/step - loss: 0.8495 - accuracy: 0.7411\n",
      "Epoch 7/15\n",
      "45/45 [==============================] - 1s 13ms/step - loss: 0.8205 - accuracy: 0.7383\n",
      "Epoch 8/15\n",
      "45/45 [==============================] - 1s 21ms/step - loss: 0.6968 - accuracy: 0.7780\n",
      "Epoch 9/15\n",
      "45/45 [==============================] - 0s 6ms/step - loss: 0.6954 - accuracy: 0.7864\n",
      "Epoch 10/15\n",
      "45/45 [==============================] - 0s 6ms/step - loss: 0.6121 - accuracy: 0.8038\n",
      "Epoch 11/15\n",
      "45/45 [==============================] - 1s 28ms/step - loss: 0.6470 - accuracy: 0.7982\n",
      "Epoch 12/15\n",
      "45/45 [==============================] - 1s 14ms/step - loss: 0.6602 - accuracy: 0.7871\n",
      "Epoch 13/15\n",
      "45/45 [==============================] - 1s 19ms/step - loss: 0.5085 - accuracy: 0.8392\n",
      "Epoch 14/15\n",
      "45/45 [==============================] - 1s 11ms/step - loss: 0.4981 - accuracy: 0.8553\n",
      "Epoch 15/15\n",
      "45/45 [==============================] - 0s 5ms/step - loss: 0.4403 - accuracy: 0.8622\n",
      "\n",
      "Training model with stddev = 10\n",
      "Epoch 1/15\n",
      "45/45 [==============================] - 2s 12ms/step - loss: 90.3443 - accuracy: 0.1204\n",
      "Epoch 2/15\n",
      "45/45 [==============================] - 1s 19ms/step - loss: 57.7915 - accuracy: 0.1260\n",
      "Epoch 3/15\n",
      "45/45 [==============================] - 1s 12ms/step - loss: 44.4109 - accuracy: 0.1280\n",
      "Epoch 4/15\n",
      "45/45 [==============================] - 0s 5ms/step - loss: 38.7524 - accuracy: 0.1795\n",
      "Epoch 5/15\n",
      "45/45 [==============================] - 0s 4ms/step - loss: 35.4718 - accuracy: 0.1795\n",
      "Epoch 6/15\n",
      "45/45 [==============================] - 0s 4ms/step - loss: 26.7446 - accuracy: 0.1886\n",
      "Epoch 7/15\n",
      "45/45 [==============================] - 0s 4ms/step - loss: 21.4322 - accuracy: 0.1983\n",
      "Epoch 8/15\n",
      "45/45 [==============================] - 0s 8ms/step - loss: 20.6234 - accuracy: 0.1517\n",
      "Epoch 9/15\n",
      "45/45 [==============================] - 1s 11ms/step - loss: 14.9552 - accuracy: 0.1580\n",
      "Epoch 10/15\n",
      "45/45 [==============================] - 1s 13ms/step - loss: 12.9069 - accuracy: 0.2011\n",
      "Epoch 11/15\n",
      "45/45 [==============================] - 0s 9ms/step - loss: 14.4901 - accuracy: 0.2359\n",
      "Epoch 12/15\n",
      "45/45 [==============================] - 1s 12ms/step - loss: 13.1052 - accuracy: 0.2352\n",
      "Epoch 13/15\n",
      "45/45 [==============================] - 0s 8ms/step - loss: 11.8340 - accuracy: 0.2303\n",
      "Epoch 14/15\n",
      "45/45 [==============================] - 0s 5ms/step - loss: 11.1108 - accuracy: 0.1990\n",
      "Epoch 15/15\n",
      "45/45 [==============================] - 0s 9ms/step - loss: 10.7623 - accuracy: 0.1942\n"
     ]
    }
   ],
   "source": [
    "# Your code here\n",
    "\n",
    "# Import necessary libraries\n",
    "from tensorflow.keras import initializers\n",
    "from tensorflow.keras import optimizers\n",
    "\n",
    "# Define the dimensions\n",
    "input_dim = 64\n",
    "hidden_dim = 64\n",
    "output_dim = 10\n",
    "\n",
    "# Define the standard deviation for the initialization schemes\n",
    "stddev_values = [1e-3,1,10]\n",
    "\n",
    "# Loop over the standard deviation\n",
    "for stddev in stddev_values:\n",
    "  print(f\"\\nTraining model with stddev = {stddev}\")\n",
    "\n",
    "  # Define the initializer\n",
    "  normal_init = initializers.TruncatedNormal(stddev=stddev, seed=42)\n",
    "\n",
    "  # Define the model\n",
    "  model = Sequential()\n",
    "  model.add(Dense(hidden_dim, input_dim=input_dim, activation=\"tanh\", kernel_initializer=normal_init))\n",
    "  model.add(Dense(hidden_dim, activation=\"tanh\", kernel_initializer=normal_init))\n",
    "  model.add(Dense(output_dim, activation=\"softmax\", kernel_initializer=normal_init))\n",
    "\n",
    "  # Compiel the model\n",
    "  model.compile(optimizer=optimizers.SGD(learning_rate=0.1),\n",
    "              loss='categorical_crossentropy', metrics=['accuracy'])\n",
    "  \n",
    "  # Train the model\n",
    "  history = model.fit(X_train, y_train, epochs=15,batch_size=32)\n",
    "  "
   ]
  },
  {
   "cell_type": "code",
   "execution_count": null,
   "metadata": {},
   "outputs": [],
   "source": [
    "# when standard deviation is very small at 0.001, the model at beginning, didn't do much update, it's almost a flat line, the model cannot learn very well.\n",
    "# when standard deviation is super big at 10, choosing value from a huge range, the loss number is bigger, the model takes much longer time to converge to a good result.\n",
    "# it's important to choose a good random initialization\n",
    "\n",
    "# when initialization is zero, it's hard for model to do any update, the loss almost stays the same."
   ]
  },
  {
   "cell_type": "code",
   "execution_count": 44,
   "metadata": {},
   "outputs": [
    {
     "name": "stdout",
     "output_type": "stream",
     "text": [
      "\n",
      "Training model with zero initialization\n",
      "Epoch 1/15\n",
      "45/45 [==============================] - 1s 5ms/step - loss: 95.3009 - accuracy: 0.1273\n",
      "Epoch 2/15\n",
      "45/45 [==============================] - 0s 4ms/step - loss: 66.8374 - accuracy: 0.1176\n",
      "Epoch 3/15\n",
      "45/45 [==============================] - 0s 5ms/step - loss: 53.5846 - accuracy: 0.1371\n",
      "Epoch 4/15\n",
      "45/45 [==============================] - 0s 4ms/step - loss: 48.2816 - accuracy: 0.1545\n",
      "Epoch 5/15\n",
      "45/45 [==============================] - 0s 4ms/step - loss: 28.7550 - accuracy: 0.1524\n",
      "Epoch 6/15\n",
      "45/45 [==============================] - 0s 5ms/step - loss: 22.5824 - accuracy: 0.1823\n",
      "Epoch 7/15\n",
      "45/45 [==============================] - 0s 5ms/step - loss: 21.2521 - accuracy: 0.1740\n",
      "Epoch 8/15\n",
      "45/45 [==============================] - 0s 6ms/step - loss: 16.3842 - accuracy: 0.1942\n",
      "Epoch 9/15\n",
      "45/45 [==============================] - 0s 5ms/step - loss: 16.5825 - accuracy: 0.2255\n",
      "Epoch 10/15\n",
      "45/45 [==============================] - 0s 6ms/step - loss: 17.1352 - accuracy: 0.2721\n",
      "Epoch 11/15\n",
      "45/45 [==============================] - 0s 11ms/step - loss: 14.1667 - accuracy: 0.2923\n",
      "Epoch 12/15\n",
      "45/45 [==============================] - 0s 6ms/step - loss: 13.1575 - accuracy: 0.2422\n",
      "Epoch 13/15\n",
      "45/45 [==============================] - 0s 4ms/step - loss: 14.1463 - accuracy: 0.2408\n",
      "Epoch 14/15\n",
      "45/45 [==============================] - 0s 5ms/step - loss: 11.9464 - accuracy: 0.1552\n",
      "Epoch 15/15\n",
      "45/45 [==============================] - 0s 5ms/step - loss: 7.9823 - accuracy: 0.1886\n"
     ]
    }
   ],
   "source": [
    "# Initialize all weights to 0\n",
    "print(\"\\nTraining model with zero initialization\")\n",
    "zero_init  = initializers.Zeros()\n",
    "\n",
    "# Define the model\n",
    "model = Sequential()\n",
    "model.add(Dense(hidden_dim, input_dim=input_dim, activation=\"tanh\", kernel_initializer=normal_init))\n",
    "model.add(Dense(hidden_dim, activation=\"tanh\", kernel_initializer=normal_init))\n",
    "model.add(Dense(output_dim, activation=\"softmax\", kernel_initializer=normal_init))\n",
    "\n",
    "# Compiel the model\n",
    "model.compile(optimizer=optimizers.SGD(learning_rate=0.1),\n",
    "              loss='categorical_crossentropy', metrics=['accuracy'])\n",
    "\n",
    "# Train the model\n",
    "history = model.fit(X_train, y_train, epochs=15,batch_size=32)"
   ]
  },
  {
   "cell_type": "markdown",
   "metadata": {},
   "source": []
  }
 ],
 "metadata": {
  "file_extension": ".py",
  "kernelspec": {
   "display_name": "Python 3 (ipykernel)",
   "language": "python",
   "name": "python3"
  },
  "language_info": {
   "codemirror_mode": {
    "name": "ipython",
    "version": 3
   },
   "file_extension": ".py",
   "mimetype": "text/x-python",
   "name": "python",
   "nbconvert_exporter": "python",
   "pygments_lexer": "ipython3",
   "version": "3.9.15"
  },
  "mimetype": "text/x-python",
  "name": "python",
  "npconvert_exporter": "python",
  "pygments_lexer": "ipython3",
  "toc": {
   "base_numbering": 1,
   "nav_menu": {},
   "number_sections": true,
   "sideBar": true,
   "skip_h1_title": false,
   "title_cell": "Table of Contents",
   "title_sidebar": "Contents",
   "toc_cell": false,
   "toc_position": {},
   "toc_section_display": true,
   "toc_window_display": false
  },
  "version": 3
 },
 "nbformat": 4,
 "nbformat_minor": 4
}
